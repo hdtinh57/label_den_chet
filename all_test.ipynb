{
 "cells": [
  {
   "cell_type": "code",
   "execution_count": 2,
   "metadata": {},
   "outputs": [
    {
     "name": "stdout",
     "output_type": "stream",
     "text": [
      "prompt_gen\\elements_0_prompts.txt\n",
      "prompt_gen\\elements_1_prompts.txt\n"
     ]
    },
    {
     "ename": "TypeError",
     "evalue": "'NoneType' object is not iterable",
     "output_type": "error",
     "traceback": [
      "\u001b[1;31m---------------------------------------------------------------------------\u001b[0m",
      "\u001b[1;31mTypeError\u001b[0m                                 Traceback (most recent call last)",
      "Cell \u001b[1;32mIn[2], line 6\u001b[0m\n\u001b[0;32m      4\u001b[0m prompts_output_folder \u001b[38;5;241m=\u001b[39m \u001b[38;5;124m\"\u001b[39m\u001b[38;5;124mprompt_gen\u001b[39m\u001b[38;5;124m\"\u001b[39m  \u001b[38;5;66;03m# Đường dẫn để lưu prompts\u001b[39;00m\n\u001b[0;32m      5\u001b[0m prompts_file_paths \u001b[38;5;241m=\u001b[39m generate_prompts(elements_folder, prompts_output_folder)\n\u001b[1;32m----> 6\u001b[0m \u001b[38;5;28;01mfor\u001b[39;00m prompt_file_path \u001b[38;5;129;01min\u001b[39;00m prompts_file_paths:\n\u001b[0;32m      7\u001b[0m     \u001b[38;5;28mprint\u001b[39m(\u001b[38;5;124mf\u001b[39m\u001b[38;5;124m\"\u001b[39m\u001b[38;5;124mGenerated prompts at \u001b[39m\u001b[38;5;132;01m{\u001b[39;00mprompt_file_path\u001b[38;5;132;01m}\u001b[39;00m\u001b[38;5;124m\"\u001b[39m)\n",
      "\u001b[1;31mTypeError\u001b[0m: 'NoneType' object is not iterable"
     ]
    }
   ],
   "source": [
    "from prompt_gen import generate_prompts \n",
    "\n",
    "elements_folder = \"elements\"  # Đường dẫn đến thư mục elements\n",
    "prompts_output_folder = \"prompt_gen\"  # Đường dẫn để lưu prompts\n",
    "prompts_file_paths = generate_prompts(elements_folder, prompts_output_folder)\n",
    "for prompt_file_path in prompts_file_paths:\n",
    "    print(f\"Generated prompts at {prompt_file_path}\")"
   ]
  }
 ],
 "metadata": {
  "kernelspec": {
   "display_name": "base",
   "language": "python",
   "name": "python3"
  },
  "language_info": {
   "codemirror_mode": {
    "name": "ipython",
    "version": 3
   },
   "file_extension": ".py",
   "mimetype": "text/x-python",
   "name": "python",
   "nbconvert_exporter": "python",
   "pygments_lexer": "ipython3",
   "version": "3.10.9"
  }
 },
 "nbformat": 4,
 "nbformat_minor": 2
}
